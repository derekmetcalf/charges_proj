{
 "cells": [
  {
   "cell_type": "markdown",
   "metadata": {},
   "source": [
    "## Machine-Learning Atomic Charges for Efficient Molecular Dynamics Simulations\n",
    "\n",
    "### Motivation\n",
    "Partitioning the electron density of a molecule (or collection of molecules)\n",
    "is of fundamental importance in simulating molecular motion using molecular\n",
    "dynamics. Traditionally, partitioning the electron density requires a \n",
    "relatively expensive wavefunction or density functional theory (DFT) calculation,\n",
    "methods that formally scale as at least $\\mathcal{O}(N^3)$. By contrast, the underlying\n",
    "molecular dynamics scales approximately as $\\mathcal{O}(N)$, making the DFT the\n",
    "rate-limiting step.\n",
    "\n",
    "\n",
    "Here, we construct an empirical model of atomic charge partitioning with\n",
    "asymptotic $\\mathcal{O}(N^2)$ cost, reducing the formal scaling of the entire method\n",
    "by $\\mathcal{O}(N)$.\n",
    "\n",
    "\n",
    "To accomplish this, we map an atom in its environment to a corresponding\n",
    "scalar, its atomic charge. The atomic charge label is computed by the minimal\n",
    "basis iterative stockholder (MBIS) algorithm performed on a second-order\n",
    "perturbative wavefunction from the simplest truncation of symmetry-adapted\n",
    "perturbation theory (SAPT0).\n",
    "\n",
    "i.e. We seek the function that maps the atomic environment ($\\vec{X}$) to its\n",
    "corresponding atomic charge ($y$):\n",
    "\n",
    "$\\vec{X} \\leftarrow y$\n",
    "\n",
    "Here, choosing $\\vec{X}$ (Coulomb matrices, symmetry functions, graph convolutions),\n",
    "and an appropriate functional form (KRR, k-NN, MLP) are critical in achieving\n",
    "a sufficiently fast and physically meaningful mapping."
   ]
  },
  {
   "cell_type": "code",
   "execution_count": 1,
   "metadata": {},
   "outputs": [],
   "source": [
    "import numpy as np\n",
    "#import tensorflow as tf\n",
    "import matplotlib.pyplot as plt\n",
    "from scipy.spatial import distance_matrix\n",
    "from sklearn.model_selection import cross_validate\n",
    "from sklearn.neural_network import MLPRegressor"
   ]
  },
  {
   "cell_type": "markdown",
   "metadata": {},
   "source": [
    "Here are simple imports for what we'll need. For more complex model architectures, Google's neural network library TensorFlow may be useful. We find excellent results with the simple MLP implementation in scikit-learn.\n",
    "\n",
    "\n",
    "### Featurization\n",
    "\n",
    "Now, we'll define a couple options for $\\vec{X}$, our \"atomic environment vectors\" -- the (local) Coulomb matrix and symmetry functions:\n",
    "\n",
    "The Coulomb matrix is defined as\n",
    "$$C_{ij} =\n",
    "      \\left\\{ \\begin{array}{ll}\n",
    "          \\frac{Z_i Z_j}{r_{ij}}& i \\neq j \\\\\n",
    "          Z_i^2 & i = j\n",
    "      \\end{array} \\right.$$\n",
    "The local version of the Coulomb matrix, used for efficiency and constant vector sizes, only considers the nearest $n$ $j$ in Euclidian distance. The matrix is flattened and fed as input to any statistical algorithm.\n",
    "\n",
    "The radial symmetry function is defined as \n",
    "$$G_{i}^{rad}(\\mu, \\eta, Z) = \\sum_{j \\ne i}e^{-\\eta(r_{ij}-\\mu)^2}f_{c}(r_{ij})\\delta_{ZZ_{j}},$$ with cutoff function $f_c(r_{ij})$ to enforce locality, $$f_{c}(r_{ij})=\n",
    "      \\left\\{ \\begin{array}{ll}\n",
    "          \\frac{1}{2}(\\cos(\\frac{r_{ij}}{r_c}) + 1) & r_{ij}\\leq r_c \\\\\n",
    "          0 & r_{ij} > r_c\n",
    "      \\end{array} \\right. ,$$\n",
    "and $\\delta_{ZZ_{j}}$ is the Kronecker delta, enforcing different \"channels\" for different nearby nuclei.\n",
    "\n",
    "\n",
    "Both of these have options, which can be seen as hyperparameters. For the local Coulomb matrix, $n$ decides how many atomic neighbors are considered. The symmetry functions, which are simply a set of radial Gaussian shells, have an $\\eta$ parameter, determining the width of each Gaussian, $\\mu$, determining the offset of each gaussian from the origin atom, and $r_c$, the cutoff distance. In practice, $r_c$ rarely exceeds $5$ angstroms, $\\mu$ is evenly spaced between a small number ($0.5$ angstroms, or so) and $r_c$, and $\\eta$ is treated as a true hyperparameter."
   ]
  },
  {
   "cell_type": "code",
   "execution_count": 2,
   "metadata": {},
   "outputs": [],
   "source": [
    "def get_local_coulomb(R, Z, n=5):\n",
    "    \"\"\"\n",
    "    Generates local Coulomb matrix for set of molecules\n",
    "    Args: Unpadded list of cartesian coords, atom nums\n",
    "        optional: number of neighbors to consider default=5\n",
    "    Returns: Unrolled list of local atomic coulomb matrices\n",
    "    \"\"\"\n",
    "    C = []\n",
    "    dists = []\n",
    "    for i, coords in enumerate(R):\n",
    "        dists = distance_matrix(coords, coords)\n",
    "        for j in range(dists.shape[0]):\n",
    "            inds = dists[j].argsort()[:n]\n",
    "            R_local = np.zeros((n,n))\n",
    "            ZZ_local = np.zeros((n,n))\n",
    "            for k in range(len(inds)):\n",
    "                for l in range(len(inds)):\n",
    "                    if k != l:\n",
    "                        R_local[k][l] = dists[inds[k],inds[l]]\n",
    "                    elif k == l:\n",
    "                        R_local[k][l] = 1.0 #fixes diagonal inf\n",
    "                    ZZ_local[k][l] = Z[i][inds[k]] * Z[i][inds[l]]\n",
    "            C.append(ZZ_local / R_local)\n",
    "    C = np.array(C)\n",
    "    return np.reshape(C, (C.shape[0], C.shape[1]**2))\n",
    "\n",
    "def get_symmetry_functions(R, Z, eta=2., num = 20, r_c = 5.):\n",
    "    \"\"\"\n",
    "    Generates weighted radial symmetry functions for each atom in a set of\n",
    "    molecules a la Behler, Parrinello, Gastegger, Marquetand.\n",
    "    Args: Unpadded list of Cartesian coords, atom nums\n",
    "        optional:\n",
    "         eta      : hyperparameter, corresponding to Gaussian widths\n",
    "         num : hyperparameter, corresponding to number of Gaussians\n",
    "         r_c      : hyperparameter, corresponding to cutoff radius\n",
    "    Returns: Unrolled list of atomic radial symmetry functions\n",
    "    \"\"\"\n",
    "    Z_dict = {1.0 : 0,\n",
    "              6.0 : 1,\n",
    "              7.0 : 2,\n",
    "              8.0 : 3,\n",
    "              9.0 : 4,\n",
    "              16.0: 5,}\n",
    "\n",
    "    G = []\n",
    "    mu = np.linspace(0.8, r_c, num)\n",
    "    for i, coords in enumerate(R):\n",
    "        dists = distance_matrix(coords, coords)\n",
    "        for j in range(dists.shape[0]):\n",
    "            atom_G = np.zeros(len(mu)*len(Z_dict))\n",
    "            for k in range(dists.shape[0]):\n",
    "                if j != k:\n",
    "                    if dists[j][k] < r_c:\n",
    "                        cutoff = 0.5 * (np.cos(dists[j][k] / r_c) + 1)\n",
    "                    else: cutoff = 0.0\n",
    "                    exp_term = np.exp(-eta * dists[j][k] - mu) ** 2\n",
    "                    ind = Z_dict[Z[i][k]] * len(mu)\n",
    "                    atom_G[ind:ind+len(mu)] += exp_term * cutoff\n",
    "            G.append(atom_G)\n",
    "    return np.array(G)"
   ]
  },
  {
   "cell_type": "markdown",
   "metadata": {},
   "source": [
    "These implementations return a flattened set of vectors, each vector describing an atom's environment. Therefore, the shape of the Coulomb matrix function's return is (number_of_atoms, n^2). The shape of the symmetry function return is (number_of_atoms, number_of_elements * num), where num is the hyperparameter controlling the number of radial Gaussians.\n",
    "\n",
    "### Loading in data"
   ]
  },
  {
   "cell_type": "code",
   "execution_count": 3,
   "metadata": {},
   "outputs": [],
   "source": [
    "def reconstitute(RAp, RBp, ZAp, ZBp, QAp, QBp):\n",
    "    \"\"\"\n",
    "    Args: padded individual monomer coordinates, atom nums, and charges\n",
    "    Returns: unpadded, concatenated coords, atom nums, and charges\n",
    "    \"\"\"\n",
    "    R = []\n",
    "    Z = []\n",
    "    Q = []\n",
    "    for i in range(len(RAp)):\n",
    "        R_mol = []\n",
    "        Z_mol = []\n",
    "        Q_mol = []\n",
    "        for j in range(len(RAp[i])):\n",
    "            if ZAp[i][j] != 0:\n",
    "                R_mol.append(RAp[i][j])\n",
    "                Z_mol.append(ZAp[i][j])\n",
    "                Q_mol.append(QAp[i][j])\n",
    "        for j in range(len(RBp[i])):\n",
    "            if ZBp[i][j] != 0:\n",
    "                R_mol.append(RBp[i][j])\n",
    "                Z_mol.append(ZBp[i][j])\n",
    "                Q_mol.append(QBp[i][j])\n",
    "        R.append(np.array(R_mol))\n",
    "        Z.append(np.array(Z_mol))\n",
    "        Q.append(np.array(Q_mol))\n",
    "    return R, Z, Q\n",
    "\n",
    "# load in system names, electrons, atomic numbers, and coordinates\n",
    "names = np.load(\"bms_data/names_train.npy\")\n",
    "e_A = np.load(\"bms_data/Q_A_train.npy\")\n",
    "e_B = np.load(\"bms_data/Q_B_train.npy\")\n",
    "Z_A = np.load(\"bms_data/Z_A_train.npy\")\n",
    "Z_B = np.load(\"bms_data/Z_B_train.npy\")\n",
    "R_A = np.load(\"bms_data/R_A_train.npy\")\n",
    "R_B = np.load(\"bms_data/R_B_train.npy\")\n",
    "    \n",
    "Q_A = Z_A - e_A\n",
    "Q_B = Z_B - e_B\n",
    "    \n",
    "# these are split by monomer and padded, reconstituting total system w/o pad\n",
    "R, Z, Q = reconstitute(R_A, R_B, Z_A, Z_B, Q_A, Q_B)"
   ]
  },
  {
   "cell_type": "markdown",
   "metadata": {},
   "source": [
    "These data are molecular dimers whose chemistry is relevant in drug discovery. Specifically, the training configurations have been artificially sampled based on the intuition of a team of medicinal chemists, not drawn from any experimental study. Being loaded and parsed are\n",
    "1. R : Cartesian coordinates of each atom in each system\n",
    "2. Z : Atomic numbers of each atom in each system\n",
    "3. Q : Atomic charges (y), which we seek to predict\n",
    "\n",
    "Also included in the bms_data directory are \"*_val.npy\" files, which will be used as a final validation set. These are sensible choices of validation data because these molecular dimers are drawn from experimental crystallographic data, so are by construction physically reasonable configurations that medicinal chemists might be interested in.\n",
    "\n",
    "Good performance on the crystallographic validation set would indicate that the training and testing sets, both drawn from artificial configurations, are sufficient to model the underlying physics of electron distributions."
   ]
  },
  {
   "cell_type": "markdown",
   "metadata": {},
   "source": [
    "### Generating features and training models\n",
    "\n",
    "Below is code that generates local Coulomb matrices and radial symmetry functions, given the input R and Z:"
   ]
  },
  {
   "cell_type": "code",
   "execution_count": 4,
   "metadata": {},
   "outputs": [
    {
     "name": "stderr",
     "output_type": "stream",
     "text": [
      "/home/derek/anaconda3/lib/python3.7/site-packages/sklearn/neural_network/multilayer_perceptron.py:562: ConvergenceWarning: Stochastic Optimizer: Maximum iterations (200) reached and the optimization hasn't converged yet.\n",
      "  % self.max_iter, ConvergenceWarning)\n",
      "/home/derek/anaconda3/lib/python3.7/site-packages/sklearn/neural_network/multilayer_perceptron.py:562: ConvergenceWarning: Stochastic Optimizer: Maximum iterations (200) reached and the optimization hasn't converged yet.\n",
      "  % self.max_iter, ConvergenceWarning)\n"
     ]
    },
    {
     "name": "stdout",
     "output_type": "stream",
     "text": [
      "{'fit_time': array([26.4629271 , 33.5600152 , 33.32647753]), 'score_time': array([0.11464763, 0.13815117, 0.13547611]), 'test_r2': array([0.84527799, 0.7441414 , 0.82645928]), 'train_r2': array([0.84351576, 0.74978114, 0.82330603]), 'test_neg_mean_absolute_error': array([-0.09158523, -0.13871811, -0.09986697]), 'train_neg_mean_absolute_error': array([-0.09133306, -0.13780175, -0.10133563])}\n"
     ]
    }
   ],
   "source": [
    "## generate atomic environment descriptors\n",
    "\n",
    "#X = get_local_coulomb(R, Z, n=5)\n",
    "X = get_symmetry_functions(R, Z, eta=1., num=15)\n",
    "\n",
    "##The following feature represents the null hypothesis, where atoms\n",
    "## are defined only by their atomic number. As you would expect,\n",
    "## this doesn't work very well.\n",
    "#C = np.expand_dims(np.hstack(Z), -1)\n",
    "##\n",
    "\n",
    "y = np.hstack(Q)\n",
    "\n",
    "X_mlp = X[::5]\n",
    "y_mlp = y[::5]\n",
    "mlp = MLPRegressor(hidden_layer_sizes=(20,20), early_stopping=True, n_iter_no_change=10)\n",
    "scoring = ('r2', 'neg_mean_absolute_error')\n",
    "cv_results = cross_validate(mlp, X_mlp, y_mlp, cv=3, scoring=scoring, return_train_score=True)\n",
    "    \n",
    "print(cv_results)"
   ]
  },
  {
   "cell_type": "markdown",
   "metadata": {},
   "source": [
    "This preliminary effort makes available many optimizations for improving fast charge predictions:\n",
    "\n",
    "1. Exploring descriptor hyperparameters\n",
    "\n",
    "\n",
    "    a. Local Coulomb matrices depend on n, a natural number referring to the number of atomic neighbors to consider.   \n",
    "    b. Symmetry functions depend on $\\eta$, num, and $r_c$, determining Gaussian widths, number of Gaussians, and cutoff radius, respectively.\n",
    "    \n",
    "    \n",
    "2. Exploring model types\n",
    "\n",
    "\n",
    "    a. KRR is accurate with little data but is potentially expensive with the quantity of data we have\n",
    "    b. Neural networks are fast at inference-time but have many hyperparameters and can be cumbersome to train\n",
    "    c. k-NN is potentially accurate but has high memory cost and non-smooth inferences w.r.t. molecular motion\n",
    "    \n",
    "    \n",
    "3. Exploring model hyperparameters -- each of the above have several hyperparameters that will affect performance"
   ]
  },
  {
   "cell_type": "markdown",
   "metadata": {},
   "source": [
    "### Principal Component Analysis (PCA)\n",
    "\n",
    "Reducing the dimensions of the $\\vec{X}$ matrix will improve speed and memory footprint as there are likely redundant features."
   ]
  },
  {
   "cell_type": "code",
   "execution_count": 5,
   "metadata": {},
   "outputs": [
    {
     "name": "stdout",
     "output_type": "stream",
     "text": [
      "Original X: (225921, 90)\n",
      "Reduced X: (225921, 6)\n",
      "Retained variance: (0.9999999999999999+0j)\n",
      "Rank of covariance matrix: 6\n"
     ]
    },
    {
     "name": "stderr",
     "output_type": "stream",
     "text": [
      "/home/derek/anaconda3/lib/python3.7/site-packages/numpy/core/numeric.py:501: ComplexWarning: Casting complex values to real discards the imaginary part\n",
      "  return array(a, dtype, copy=False, order=order)\n"
     ]
    },
    {
     "data": {
      "image/png": "[encoded data removed]",
      "text/plain": [
       "<Figure size 432x288 with 1 Axes>"
      ]
     },
     "metadata": {
      "needs_background": "light"
     },
     "output_type": "display_data"
    }
   ],
   "source": [
    "X = get_symmetry_functions(R, Z, eta=1., num=15)\n",
    "\n",
    "C = np.cov(X.T)\n",
    "eig_vals, eig_vecs = np.linalg.eig(C)\n",
    "eig_vecs = eig_vecs.T \n",
    "sorted_idxs = np.argsort(eig_vals) \n",
    "sorted_idxs = list(sorted_idxs)\n",
    "sorted_idxs.reverse() \n",
    "eig_vals = eig_vals[sorted_idxs] \n",
    "eig_vecs = eig_vecs[sorted_idxs, :]\n",
    "\n",
    "\n",
    "## Only keep the highest k eigenvalues/eigenvectors\n",
    "k = 6\n",
    "projector = eig_vecs[:k, :].T\n",
    "print('Original X: {}'.format(X.shape))\n",
    "X_k = np.dot(X,projector)\n",
    "print('Reduced X: {}'.format(X_k.shape))\n",
    "print('Retained variance: {}'.format(sum(eig_vals[:k])/sum(eig_vals)))\n",
    "\n",
    "## Scree plot\n",
    "fig, ax = plt.subplots()\n",
    "N = len(eig_vals)\n",
    "ax.plot(range(N), np.cumsum(eig_vals)/sum(eig_vals))\n",
    "ax.set_xlabel('Number of components')\n",
    "ax.set_ylabel('Retained variance ratio')\n",
    "\n",
    "print('Rank of covariance matrix: {}'.format(np.linalg.matrix_rank(C)))"
   ]
  },
  {
   "cell_type": "markdown",
   "metadata": {},
   "source": [
    "## Model & Hyperparameter Optimization"
   ]
  },
  {
   "cell_type": "markdown",
   "metadata": {},
   "source": [
    "### Kernel Ridge Regression\n",
    "\n",
    "Below is code that generates radial symmetry functions and performs KRR using RBF kernel."
   ]
  },
  {
   "cell_type": "code",
   "execution_count": 6,
   "metadata": {},
   "outputs": [
    {
     "name": "stdout",
     "output_type": "stream",
     "text": [
      "KernelRidge(alpha=1e-09, coef0=1, degree=3, gamma=0.02, kernel='rbf',\n",
      "      kernel_params=None) 0.6219538306040542\n"
     ]
    }
   ],
   "source": [
    "## KRR\n",
    "from sklearn.kernel_ridge import KernelRidge\n",
    "\n",
    "X = get_symmetry_functions(R, Z, eta=1., num=5)\n",
    "y = np.hstack(Q)\n",
    "\n",
    "X_krr = X[::40]\n",
    "y_krr = y[::40]\n",
    "\n",
    "\n",
    "## Using a train test split\n",
    "from sklearn.model_selection import train_test_split\n",
    "np.random.seed(0)\n",
    "\n",
    "X_train, X_test, y_train, y_test = train_test_split(X_krr, y_krr, test_size=0.4)\n",
    "\n",
    "\n",
    "## GridSearchCV to tune KRR parameters alpha and gamma\n",
    "\n",
    "from sklearn.model_selection import GridSearchCV\n",
    "\n",
    "sigmas = np.array([5, 10, 15, 20, 25])\n",
    "gammas = 1./(2*sigmas**2)\n",
    "\n",
    "alphas = np.array([1e-9, 1e-8, 1e-7])\n",
    "\n",
    "parameter_ranges = {'alpha':alphas, 'gamma':gammas}\n",
    "\n",
    "KRR = KernelRidge(kernel='rbf')\n",
    "KRR.fit(X_train,y_train)\n",
    "KRR_search = GridSearchCV(KRR, parameter_ranges, cv=3)\n",
    "KRR_search.fit(X_train,y_train)\n",
    "print(KRR_search.best_estimator_, KRR_search.best_score_)"
   ]
  },
  {
   "cell_type": "markdown",
   "metadata": {},
   "source": [
    "Because of the expense of kernel ridge regression, fewer features must be formed and only small subsets of the total data may be used. Naturally, this yields worse performance.\n",
    "\n",
    "What if instead we use the PCA dimensionality-reduced data, in which we can use many symmetry functions and 4x as many data points?"
   ]
  },
  {
   "cell_type": "code",
   "execution_count": 8,
   "metadata": {},
   "outputs": [
    {
     "name": "stdout",
     "output_type": "stream",
     "text": [
      "KernelRidge(alpha=1e-09, coef0=1, degree=3, gamma=0.02, kernel='rbf',\n",
      "      kernel_params=None) 0.6654976031097078\n"
     ]
    }
   ],
   "source": [
    "X = get_symmetry_functions(R, Z, eta=1., num=15)\n",
    "y = np.hstack(Q)\n",
    "\n",
    "## Using a train test split\n",
    "np.random.seed(0)\n",
    "X_krr = X[::10]\n",
    "y_krr = y[::10]\n",
    "\n",
    "X_k = np.dot(X_krr, np.real(projector))\n",
    "X_train, X_test, y_train, y_test = train_test_split(X_k, y_krr, test_size=0.3)\n",
    "\n",
    "## GridSearchCV to tune KRR parameters alpha and gamma\n",
    "\n",
    "from sklearn.model_selection import GridSearchCV\n",
    "\n",
    "sigmas = np.array([5, 10, 15, 20, 25])\n",
    "gammas = 1./(2*sigmas**2)\n",
    "\n",
    "alphas = np.array([1e-9, 1e-8, 1e-7])\n",
    "\n",
    "parameter_ranges = {'alpha':alphas, 'gamma':gammas}\n",
    "\n",
    "KRR = KernelRidge(kernel='rbf')\n",
    "KRR.fit(X_train,y_train)\n",
    "KRR_search = GridSearchCV(KRR, parameter_ranges, cv=3)\n",
    "KRR_search.fit(X_train,y_train)\n",
    "print(KRR_search.best_estimator_, KRR_search.best_score_)"
   ]
  },
  {
   "cell_type": "code",
   "execution_count": 9,
   "metadata": {},
   "outputs": [
    {
     "name": "stdout",
     "output_type": "stream",
     "text": [
      "Train score: 0.6722792956151545\n",
      "Test score: 0.6560929570669378\n"
     ]
    }
   ],
   "source": [
    "## Using GridSearchCV hyperparameters\n",
    "KRR_tuned = KernelRidge(alpha = 1e-09, kernel='rbf', gamma = 0.02)\n",
    "KRR_tuned.fit(X_train,y_train)\n",
    "r2_train = KRR_tuned.score(X_train,y_train)\n",
    "print('Train score: {}'.format(r2_train))\n",
    "\n",
    "r2_test = KRR_tuned.score(X_test,y_test)\n",
    "print('Test score: {}'.format(r2_test))"
   ]
  },
  {
   "cell_type": "markdown",
   "metadata": {},
   "source": [
    "### K-nearest neighbors regression"
   ]
  },
  {
   "cell_type": "code",
   "execution_count": 10,
   "metadata": {},
   "outputs": [],
   "source": [
    "# Import additional packages\n",
    "from sklearn.metrics import confusion_matrix\n",
    "from scipy.optimize import minimize\n",
    "from sklearn.neighbors import KNeighborsRegressor\n",
    "from sklearn.utils import shuffle"
   ]
  },
  {
   "cell_type": "code",
   "execution_count": 11,
   "metadata": {},
   "outputs": [],
   "source": [
    "X = get_symmetry_functions(R, Z, eta=1., num=15)\n",
    "y = np.hstack(Q)"
   ]
  },
  {
   "cell_type": "code",
   "execution_count": 12,
   "metadata": {
    "scrolled": true
   },
   "outputs": [],
   "source": [
    "# Split the data into test and train if you like\n",
    "X_train, X_test, y_train, y_test = train_test_split(X, y, test_size=0.3)\n",
    "X_train, y_train = shuffle(X_train, y_train)"
   ]
  },
  {
   "cell_type": "code",
   "execution_count": 13,
   "metadata": {
    "scrolled": true
   },
   "outputs": [
    {
     "name": "stdout",
     "output_type": "stream",
     "text": [
      "KNeighborsRegressor(algorithm='auto', leaf_size=30, metric='minkowski',\n",
      "          metric_params=None, n_jobs=None, n_neighbors=10, p=2,\n",
      "          weights='uniform')\n",
      "\n",
      "best score = 0.9857835567418594\n",
      "n_neighbors = 10\n"
     ]
    }
   ],
   "source": [
    "# Optimize hyperparameters for KNN Regressor\n",
    "neighbors = [1, 2, 3, 5, 10, 50]\n",
    "parameter_ranges = {'n_neighbors':neighbors}\n",
    "knn = KNeighborsRegressor() # n_neighbors=?\n",
    "knn_search = GridSearchCV(knn, parameter_ranges, cv=3)\n",
    "knn_search.fit(X_train,y_train)\n",
    "y_knn = knn_search.best_estimator_.predict(X_test)\n",
    "print(knn_search.best_estimator_)\n",
    "print('')\n",
    "print(f'best score = {knn_search.best_score_}')\n",
    "print(f'n_neighbors = {knn_search.best_estimator_.n_neighbors}')"
   ]
  },
  {
   "cell_type": "markdown",
   "metadata": {},
   "source": [
    "k-NN benefits greatly from being able to use all of the data in a reasonable amount of time."
   ]
  },
  {
   "cell_type": "markdown",
   "metadata": {},
   "source": [
    "### Multilayer Perceptron\n",
    "We showed an MLP in our training example, but didn't use all the data or bother to optimize its hyperparameters. Let's do that, with our dimensionality-reduced features for efficiency."
   ]
  },
  {
   "cell_type": "code",
   "execution_count": 19,
   "metadata": {
    "scrolled": true
   },
   "outputs": [
    {
     "name": "stderr",
     "output_type": "stream",
     "text": [
      "/home/derek/anaconda3/lib/python3.7/site-packages/sklearn/neural_network/multilayer_perceptron.py:562: ConvergenceWarning: Stochastic Optimizer: Maximum iterations (200) reached and the optimization hasn't converged yet.\n",
      "  % self.max_iter, ConvergenceWarning)\n",
      "/home/derek/anaconda3/lib/python3.7/site-packages/sklearn/neural_network/multilayer_perceptron.py:562: ConvergenceWarning: Stochastic Optimizer: Maximum iterations (200) reached and the optimization hasn't converged yet.\n",
      "  % self.max_iter, ConvergenceWarning)\n",
      "/home/derek/anaconda3/lib/python3.7/site-packages/sklearn/neural_network/multilayer_perceptron.py:562: ConvergenceWarning: Stochastic Optimizer: Maximum iterations (200) reached and the optimization hasn't converged yet.\n",
      "  % self.max_iter, ConvergenceWarning)\n",
      "/home/derek/anaconda3/lib/python3.7/site-packages/sklearn/neural_network/multilayer_perceptron.py:562: ConvergenceWarning: Stochastic Optimizer: Maximum iterations (200) reached and the optimization hasn't converged yet.\n",
      "  % self.max_iter, ConvergenceWarning)\n",
      "/home/derek/anaconda3/lib/python3.7/site-packages/sklearn/neural_network/multilayer_perceptron.py:562: ConvergenceWarning: Stochastic Optimizer: Maximum iterations (200) reached and the optimization hasn't converged yet.\n",
      "  % self.max_iter, ConvergenceWarning)\n",
      "/home/derek/anaconda3/lib/python3.7/site-packages/sklearn/neural_network/multilayer_perceptron.py:562: ConvergenceWarning: Stochastic Optimizer: Maximum iterations (200) reached and the optimization hasn't converged yet.\n",
      "  % self.max_iter, ConvergenceWarning)\n",
      "/home/derek/anaconda3/lib/python3.7/site-packages/sklearn/neural_network/multilayer_perceptron.py:562: ConvergenceWarning: Stochastic Optimizer: Maximum iterations (200) reached and the optimization hasn't converged yet.\n",
      "  % self.max_iter, ConvergenceWarning)\n"
     ]
    },
    {
     "name": "stdout",
     "output_type": "stream",
     "text": [
      "MLPRegressor(activation='relu', alpha=0.0001, batch_size='auto', beta_1=0.9,\n",
      "       beta_2=0.999, early_stopping=True, epsilon=1e-08,\n",
      "       hidden_layer_sizes=(50, 25), learning_rate='constant',\n",
      "       learning_rate_init=0.001, max_iter=200, momentum=0.9,\n",
      "       n_iter_no_change=10, nesterovs_momentum=True, power_t=0.5,\n",
      "       random_state=None, shuffle=True, solver='adam', tol=0.0001,\n",
      "       validation_fraction=0.1, verbose=False, warm_start=False) 0.9023548725941979\n"
     ]
    }
   ],
   "source": [
    "X = get_symmetry_functions(R, Z, eta=1., num=15)\n",
    "X_k = np.dot(X, np.real(projector))\n",
    "X_k = X_k[::2]\n",
    "\n",
    "y = np.hstack(Q)\n",
    "y_k = y[::2]\n",
    "layers = [(10,10), (25,25), (50,25)]\n",
    "# FYI, independent experiments with other hyperparams\n",
    "# showed some sklearn defaults are, in fact, best. This\n",
    "# notebook simply shows an illustrative example.\n",
    "mlp = MLPRegressor(early_stopping=True, n_iter_no_change=10)\n",
    "\n",
    "parameter_ranges = {'hidden_layer_sizes':layers}\n",
    "mlp_search = GridSearchCV(mlp, parameter_ranges, cv=3)\n",
    "mlp_search.fit(X_k, y_k)\n",
    "scoring = ('r2', 'neg_mean_absolute_error')\n",
    "\n",
    "print(mlp_search.best_estimator_, mlp_search.best_score_)"
   ]
  },
  {
   "cell_type": "markdown",
   "metadata": {},
   "source": [
    "# Model Validation"
   ]
  },
  {
   "cell_type": "markdown",
   "metadata": {},
   "source": [
    "### Two models show excellent performance and are able to handle the amount of data available:\n",
    "###                                   MLP and k-NN\n",
    "MLP may be useful when output charges need to be continuous with respect to changing molecular geometries, like in the case of molecular dynamics. k-NN appears to be more accurate, but is discontinuous with respect to changing geometries. This could be used for single-point electrostatic energy calculations.\n",
    "\n",
    "#### How does each model validate on our out-of-sample crystallographic data?"
   ]
  },
  {
   "cell_type": "markdown",
   "metadata": {},
   "source": [
    "Loading in the special holdout data:"
   ]
  },
  {
   "cell_type": "code",
   "execution_count": 20,
   "metadata": {},
   "outputs": [],
   "source": [
    "# load in system names, electrons, atomic numbers, and coordinates\n",
    "names = np.load(\"bms_data/names_val.npy\")\n",
    "e_A = np.load(\"bms_data/Q_A_val.npy\")\n",
    "e_B = np.load(\"bms_data/Q_B_val.npy\")\n",
    "Z_A = np.load(\"bms_data/Z_A_val.npy\")\n",
    "Z_B = np.load(\"bms_data/Z_B_val.npy\")\n",
    "R_A = np.load(\"bms_data/R_A_val.npy\")\n",
    "R_B = np.load(\"bms_data/R_B_val.npy\")\n",
    "    \n",
    "Q_A = Z_A - e_A\n",
    "Q_B = Z_B - e_B\n",
    "    \n",
    "# these are split by monomer and padded, reconstituting total system w/o pad\n",
    "R, Z, Q = reconstitute(R_A, R_B, Z_A, Z_B, Q_A, Q_B)"
   ]
  },
  {
   "cell_type": "code",
   "execution_count": 21,
   "metadata": {},
   "outputs": [],
   "source": [
    "X = get_symmetry_functions(R, Z, eta=1., num=15)\n",
    "X_val = X.copy()\n",
    "y = np.hstack(Q)\n",
    "y_val = y.copy()"
   ]
  },
  {
   "cell_type": "markdown",
   "metadata": {},
   "source": [
    "Now for validating our models.\n",
    "First, the best k-nearest neighbors model:"
   ]
  },
  {
   "cell_type": "code",
   "execution_count": 22,
   "metadata": {},
   "outputs": [
    {
     "name": "stdout",
     "output_type": "stream",
     "text": [
      "k-NN Validation R2  \t0.925\n"
     ]
    }
   ],
   "source": [
    "# Calculate the coefficient of determination R^2 for all the following predictions\n",
    "knn_y_prd = knn_search.predict(X_val)\n",
    "knn_r2_val = knn_search.score(X_val, y_val)\n",
    "print(f'k-NN Validation R2  \\t{round(knn_r2_val,3)}')"
   ]
  },
  {
   "cell_type": "markdown",
   "metadata": {},
   "source": [
    "Next, the best MLP model:"
   ]
  },
  {
   "cell_type": "code",
   "execution_count": 24,
   "metadata": {},
   "outputs": [
    {
     "name": "stdout",
     "output_type": "stream",
     "text": [
      "MLPRegressor(activation='relu', alpha=0.0001, batch_size='auto', beta_1=0.9,\n",
      "       beta_2=0.999, early_stopping=True, epsilon=1e-08,\n",
      "       hidden_layer_sizes=(50, 25), learning_rate='constant',\n",
      "       learning_rate_init=0.001, max_iter=200, momentum=0.9,\n",
      "       n_iter_no_change=10, nesterovs_momentum=True, power_t=0.5,\n",
      "       random_state=None, shuffle=True, solver='adam', tol=0.0001,\n",
      "       validation_fraction=0.1, verbose=False, warm_start=False) 0.9023548725941979\n",
      "MLP Validation R2  \t0.88\n"
     ]
    }
   ],
   "source": [
    "X_mlp_val = np.dot(X_val, np.real(projector))\n",
    "mlp_y_prd = mlp_search.predict(X_mlp_val)\n",
    "mlp_r2_val = mlp_search.score(X_mlp_val, y_val)\n",
    "print(mlp_search.best_estimator_, mlp_search.best_score_)\n",
    "print(f'MLP Validation R2  \\t{round(mlp_r2_val,3)}')"
   ]
  },
  {
   "cell_type": "code",
   "execution_count": 27,
   "metadata": {},
   "outputs": [
    {
     "data": {
      "image/png": "[encoded data removed]",
      "text/plain": [
       "<Figure size 432x288 with 1 Axes>"
      ]
     },
     "metadata": {
      "needs_background": "light"
     },
     "output_type": "display_data"
    }
   ],
   "source": [
    "fig, ax = plt.subplots()\n",
    "\n",
    "ax.scatter(knn_y_prd, y_val, c='tab:orange', label='kNN', alpha=0.3)\n",
    "ax.scatter(mlp_y_prd, y_val, c='tab:green', label='MLP', alpha=0.3)\n",
    "\n",
    "ax.legend()\n",
    "ax.grid(True)\n",
    "ax.set_xlabel(\"Model Charge Prediction (e$^{-}$)\")\n",
    "ax.set_ylabel(\"True Atomic Charge (e$^{-}$)\")\n",
    "plt.show()\n"
   ]
  },
  {
   "cell_type": "markdown",
   "metadata": {},
   "source": [
    "### Quick Conclusions:\n",
    "Both models seem very good for typical systems. The neural network, while slightly worse-performing in R2 and MAE, has lower maximum errors, as evidenced by the outliers visible in the plot above.\n",
    "\n",
    "As mentioned before, the MLP has a derivative everywhere (after derivative assumptions are made over the piecewise-linear ReLU activation), so the model output varies smoothly and can be reliably used in molecular dynamics simulations.\n",
    "\n",
    "The kNN model is generally discontinuous and non-differentiable with respect to atomic motion, so while accurate, should only be used for point-estimates."
   ]
  }
 ],
 "metadata": {
  "kernelspec": {
   "display_name": "Python 3",
   "language": "python",
   "name": "python3"
  },
  "language_info": {
   "codemirror_mode": {
    "name": "ipython",
    "version": 3
   },
   "file_extension": ".py",
   "mimetype": "text/x-python",
   "name": "python",
   "nbconvert_exporter": "python",
   "pygments_lexer": "ipython3",
   "version": "3.7.1"
  }
 },
 "nbformat": 4,
 "nbformat_minor": 2
}
